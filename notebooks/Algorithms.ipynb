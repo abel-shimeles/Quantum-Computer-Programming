{
 "cells": [
  {
   "cell_type": "markdown",
   "id": "fb7162f1",
   "metadata": {},
   "source": [
    "# Quantum Computing Algorithms in Cirq\n",
    "\n",
    "This notebook is the implementation of some of the standard algorthms that are encountered in quantum computing.\n",
    "\n",
    "The discussion's in here is expanded from examples found in [Cirq examples](https://github.com/quantumlib/Cirq/tree/master/examples) directory."
   ]
  },
  {
   "cell_type": "markdown",
   "id": "c2812b1d",
   "metadata": {},
   "source": [
    "## Packages"
   ]
  },
  {
   "cell_type": "code",
   "execution_count": 1,
   "id": "b1c919d4",
   "metadata": {},
   "outputs": [],
   "source": [
    "import random\n",
    "import numpy as np\n",
    "import cirq"
   ]
  },
  {
   "cell_type": "markdown",
   "id": "6a1fa862",
   "metadata": {},
   "source": [
    "## Quantum Teleportation\n",
    "\n",
    "Quantum Teleportation is a process by which a quantum state can be transmitted\n",
    "by sending only two classical bits of information. This is accomplished by\n",
    "pre-sharing an entangled state between the sender (Alice) and the receiver\n",
    "(Bob). This entangled state allows the receiver (Bob) of the two classical\n",
    "bits of information to possess a qubit with the same state as the one held by\n",
    "the sender (Alice).\n",
    "In the following example output, qubit 0 (the Message) is set to a random state\n",
    "by applying X and Y gates. By sending two classical bits of information after\n",
    "qubit 0 (the Message) and qubit 1 (Alice's entangled qubit) are measured, the\n",
    "final state of qubit 2 (Bob's entangled qubit) will be identical to the\n",
    "original random state of qubit 0 (the Message). This is only possible given\n",
    "that an entangled state is pre-shared between Alice and Bob.\n",
    "\n",
    "=== REFERENCES ===\n",
    "\n",
    "https://en.wikipedia.org/wiki/Quantum_teleportation\n",
    "https://journals.aps.org/prl/abstract/10.1103/PhysRevLett.70.1895"
   ]
  },
  {
   "cell_type": "code",
   "execution_count": 2,
   "id": "8e3dfeae",
   "metadata": {},
   "outputs": [
    {
     "name": "stdout",
     "output_type": "stream",
     "text": [
      "Circuit:\n",
      "       ┌                           ┐\n",
      "0: ───│-0.512+0.783j -0.317-0.155j│───────@───H───M───────@───\n",
      "      │-0.286-0.206j -0.448+0.822j│       │       │       │\n",
      "      └                           ┘       │       │       │\n",
      "                                          │       │       │\n",
      "1: ───H───────────────────────────────@───X───────M───@───┼───\n",
      "                                      │               │   │\n",
      "2: ───────────────────────────────────X───────────────X───@───\n",
      "Bloch Vector of Message After Random Unitary: \n",
      "x:  -0.0299 y:  0.6598 z:  0.7508\n",
      "Bloch Sphere of Qubit 2 at Final State:\n",
      "x:  -0.0299 y:  0.6598 z:  0.7508\n"
     ]
    }
   ],
   "source": [
    "def quantum_teleportation_circuit(gate):\n",
    "    circuit = cirq.Circuit()\n",
    "    message, alice, bob = cirq.LineQubit.range(3)\n",
    "    \n",
    "    # Creates Bell state to be shared between Alice and Bob\n",
    "    circuit.append([cirq.H(alice), cirq.CNOT(alice, bob)])\n",
    "    # Creates a random state for the message\n",
    "    circuit.append(gate(message))\n",
    "    # Bell measurement of the Message and Alice's entagled qubit\n",
    "    circuit.append([cirq.CNOT(message, alice), cirq.H(message)])\n",
    "    circuit.append(cirq.measure(message, alice))\n",
    "    # Uses the two classical bits from the Bell measurement to recover\n",
    "    # the original quantum Message on Bob's entagled qubit\n",
    "    circuit.append([cirq.CNOT(alice, bob), cirq.CZ(message, bob)])\n",
    "    \n",
    "    return circuit\n",
    "\n",
    "gate = cirq.MatrixGate(cirq.testing.random_unitary(2))\n",
    "circuit = quantum_teleportation_circuit(gate)\n",
    "\n",
    "print('Circuit:\\n', circuit)\n",
    "\n",
    "simulation = cirq.Simulator()\n",
    "\n",
    "# Create qubits\n",
    "q_0 = cirq.LineQubit(0) \n",
    "\n",
    "# Produce the message using random unitary\n",
    "message = simulation.simulate(cirq.Circuit(gate.on(q_0)))\n",
    "\n",
    "print('Bloch Vector of Message After Random Unitary: ')\n",
    "\n",
    "# Prints the Bloch vector of the Message after the random gate\n",
    "b_0X, b_0Y, b_0Z = cirq.bloch_vector_from_state_vector(message.final_state_vector, 0)\n",
    "\n",
    "print(\n",
    "    'x: ', np.around(b_0X, 4),\n",
    "    'y: ', np.around(b_0Y, 4),\n",
    "    'z: ', np.around(b_0Z, 4)\n",
    ")\n",
    "\n",
    "# Records the final state of the simulation\n",
    "final_results = simulation.simulate(circuit)\n",
    "\n",
    "print(\"Bloch Sphere of Qubit 2 at Final State:\")\n",
    "# Prints the Bloch Sphere of Bob's entangled qubit at the final state\n",
    "b_2X, b_2Y, b_2Z = cirq.bloch_vector_from_state_vector(final_results.final_state_vector, 2)\n",
    "print(\n",
    "    \"x: \", np.around(b_2X, 4),\n",
    "    \"y: \", np.around(b_2Y, 4),\n",
    "    \"z: \", np.around(b_2Z, 4)\n",
    ")"
   ]
  },
  {
   "cell_type": "markdown",
   "id": "fb8cc1df",
   "metadata": {},
   "source": [
    "## Deutsch's Algorithm\n",
    "\n",
    "Deutsch's algorithm is one of the simplest demonstrations of quantum parallelism\n",
    "and interference. It takes a black-box oracle implementing a Boolean function\n",
    "f(x), and determines whether f(0) and f(1) have the same parity using just one\n",
    "query.  This version of Deutsch's algorithm is a simplified and improved version\n",
    "from Nielsen and Chuang's textbook.\n",
    "\n",
    "=== REFERENCE ===\n",
    "\n",
    "https://en.wikipedia.org/wiki/Deutsch–Jozsa_algorithm\n",
    "Deutsch, David. \"Quantum theory, the Church-Turing Principle and the universal\n",
    "quantum computer.\" Proc. R. Soc. Lond. A, 400:97, 1985."
   ]
  },
  {
   "cell_type": "code",
   "execution_count": 3,
   "id": "655eb218",
   "metadata": {},
   "outputs": [
    {
     "name": "stdout",
     "output_type": "stream",
     "text": [
      "Secret function:\n",
      "f(x) = <0,0>\n",
      "Circuit:\n",
      " 0: ───H───H───M('result')───\n",
      "\n",
      "1: ───X───H─────────────────\n",
      "Result of f(0)⊕f(1):\n",
      " result=0\n"
     ]
    }
   ],
   "source": [
    "def oracle(q_0, q_1, secret_function):\n",
    "    if secret_function[0]:\n",
    "        yield [cirq.CNOT(q_0, q_1), cirq.X(q_1)]\n",
    "        \n",
    "    if secret_function[1]:\n",
    "        yield cirq.CNOT(q_0, q_1)\n",
    "\n",
    "def deutsch_circuit(q_0, q_1, oracle):\n",
    "    circuit = cirq.Circuit()\n",
    "    \n",
    "    # Initialize quibits\n",
    "    circuit.append([cirq.X(q_1), cirq.H(q_1), cirq.H(q_0)])\n",
    "    \n",
    "    # Query oracle\n",
    "    circuit.append(oracle)\n",
    "    \n",
    "    # Measure in X basics\n",
    "    circuit.append([cirq.H(q_0), cirq.measure(q_0, key='result')])\n",
    "    \n",
    "    return circuit\n",
    "\n",
    "# Choose qubits\n",
    "q_0, q_1 = cirq.LineQubit.range(2)\n",
    "\n",
    "# Pick a secret 2-bit function and create a circuit to query the oracle\n",
    "secret_function = [random.randint(0,1) for _ in range(2)]\n",
    "oracle = oracle(q_0, q_1, secret_function)\n",
    "\n",
    "print('Secret function:\\nf(x) = <{}>'.format(','.join(str(e) for e in secret_function)))\n",
    "\n",
    "# Embed the oracle into a quantum circuit querying it exactly once.\n",
    "circuit = deutsch_circuit(q_0, q_1, oracle)\n",
    "\n",
    "print('Circuit:\\n', circuit)\n",
    "\n",
    "# Simulate the circuit\n",
    "simulation = cirq.Simulator()\n",
    "result = simulation.run(circuit)\n",
    "\n",
    "print('Result of f(0)⊕f(1):\\n', result)"
   ]
  },
  {
   "cell_type": "markdown",
   "id": "67a5d9ca",
   "metadata": {},
   "source": [
    "## Quantum Fourier Transform and Phase Estimation\n",
    "\n",
    "###  1. Quantum Fourier Transform\n",
    "Suppose we have $n$ qubits in the state $|x\\rangle$, where $x$ is an integer in the range $0$ to $2^{n-1}$. The quantum Fourier transform (QFT) performs the following operation:\n",
    "$$\n",
    "\\text{QFT}|x\\rangle = \\frac{1}{2^{n/2}} \\sum_{y=0}^{2^n-1} e^{2\\pi i y x/2^n} |y\\rangle.\n",
    "$$\n",
    "When $x=0$, this is the same as the action of $H^{\\otimes n}$ (this is an important sanity check). Though it may not be obvious at first glance, the QFT is actually a unitary transformation. As a matrix, the QFT is given by\n",
    "$$\n",
    "\\text{QFT} = \\begin{bmatrix}\n",
    "1 & 1 & 1& \\cdots &1 \\\\\n",
    "1 & \\omega & \\omega^2& \\cdots &\\omega^{2^n-1} \\\\\n",
    "1 & \\omega^2 & \\omega^4& \\cdots &\\omega^{2(2^n-1)}\\\\\n",
    "\\vdots &\\vdots &\\vdots &\\ddots &\\vdots \\\\\n",
    "1 &\\omega^{2^n-1} &\\omega^{2(2^n-1)} &\\cdots &\\omega^{(2^n-1)(2^n-1)},\n",
    "\\end{bmatrix}\n",
    "$$\n",
    "where $\\omega = e^{2\\pi i /2^n}$. If you believe that the QFT is unitary, then you'll also notice from the matrix form that its inverse is given by a similar expression but with complex-conjugated coefficients:\n",
    "$$\n",
    "\\text{QFT}^{-1}|x\\rangle = \\frac{1}{2^{n/2}} \\sum_{y=0}^{2^n-1} e^{-2\\pi i y x/2^n} |y\\rangle.\n",
    "$$\n",
    "\n",
    "We just need to understand the notation a little bit. $x_j$ on the left-hand side represents one of the binary digits of the input $x$. $x_1$ is the most significant bit and $x_n$ the least significant bit:\n",
    "$$\n",
    "x = \\sum_{j=0}^{n-1} x_{j+1}2^j.\n",
    "$$\n",
    "$H$ is the Hadamard gate, as usual. The Controlled-$R_j$ gates are phase gates similar to the Controlled-$Z$ gate. In fact, for us it will be useful to just think of them as fractional powers of Controlled-$Z$ gates:\n",
    "$$\n",
    "CR_j = CZ^{\\large 1/2^{j-1}}\n",
    "$$\n",
    "Finally, on the far right we have the output representing the bts of $y$. The only difference between the left and right side is that the output bits are in a different order: the most significant bit of $y$ is on the bottom and the least significant bit is on the top.\n",
    "\n",
    "#### Quantum Fourier Transform as a Circuit\n",
    "Let's define a generator which produces the QFT circuit. It should accept a list of qubits as input and `yield`s the gates to construct the QFT in the right order. A useful observation is that the the QFT circuit \"repeats\" smaller versions of itself as you move from left to right across the diagram."
   ]
  },
  {
   "cell_type": "code",
   "execution_count": 4,
   "id": "efa83d45",
   "metadata": {},
   "outputs": [
    {
     "name": "stdout",
     "output_type": "stream",
     "text": [
      "                  ┌───────┐   ┌────────────┐   ┌───────┐\n",
      "0: ───H───@────────@───────────@───────────────────────────────────────\n",
      "          │        │           │\n",
      "1: ───────@^0.5────┼─────H─────┼──────@─────────@──────────────────────\n",
      "                   │           │      │         │\n",
      "2: ────────────────@^0.25──────┼──────@^0.5─────┼─────H────@───────────\n",
      "                               │                │          │\n",
      "3: ────────────────────────────@^(1/8)──────────@^0.25─────@^0.5───H───\n",
      "                  └───────┘   └────────────┘   └───────┘\n"
     ]
    }
   ],
   "source": [
    "def make_qft(qubits):\n",
    "    \"\"\"\n",
    "    ---H--@-------@--------@---------------------------------------------\n",
    "        |       |        |\n",
    "    ------@^0.5---+--------+---------H--@-------@------------------------\n",
    "                |        |            |       |\n",
    "    --------------@^0.25---+------------@^0.5---+---------H--@-----------\n",
    "                         |                    |            |\n",
    "    -----------------------@^0.125--------------@^0.25-------@^0.5---H---\n",
    "    \"\"\"\n",
    "    qubits = list(qubits)\n",
    "    \n",
    "    while len(qubits) > 0:\n",
    "        q_head = qubits.pop(0)\n",
    "        yield cirq.H(q_head)\n",
    "        \n",
    "        for i, qubit in enumerate(qubits):\n",
    "            yield (cirq.CZ**(1/2**(i+1)))(qubit, q_head)\n",
    "            \n",
    "num_qubits = 4\n",
    "qubits = cirq.LineQubit.range(num_qubits)\n",
    "\n",
    "qft = cirq.Circuit(*make_qft(qubits))\n",
    "print(qft)"
   ]
  },
  {
   "cell_type": "markdown",
   "id": "b3b4d257",
   "metadata": {},
   "source": [
    "#### Quantum Fourier Transform as a Gate\n",
    "For later convenience, it will be useful to encapsulate the QFT construction into a single gate. We can inherit from  `cirq.Gate` to define a gate which acts on an unspecified number of qubits, and then use the same strategy as for `make_qft` in the `_decompose_` method of the gate."
   ]
  },
  {
   "cell_type": "code",
   "execution_count": 5,
   "id": "eb011de2",
   "metadata": {},
   "outputs": [
    {
     "name": "stdout",
     "output_type": "stream",
     "text": [
      "0: ───QFT0───\n",
      "      │\n",
      "1: ───QFT1───\n",
      "      │\n",
      "2: ───QFT2───\n",
      "      │\n",
      "3: ───QFT3───\n",
      "                  ┌───────┐   ┌────────────┐   ┌───────┐\n",
      "0: ───H───@────────@───────────@───────────────────────────────────────\n",
      "          │        │           │\n",
      "1: ───────@^0.5────┼─────H─────┼──────@─────────@──────────────────────\n",
      "                   │           │      │         │\n",
      "2: ────────────────@^0.25──────┼──────@^0.5─────┼─────H────@───────────\n",
      "                               │                │          │\n",
      "3: ────────────────────────────@^(1/8)──────────@^0.25─────@^0.5───H───\n",
      "                  └───────┘   └────────────┘   └───────┘\n"
     ]
    }
   ],
   "source": [
    "class QFT(cirq.Gate):\n",
    "    def __init__(self, n_qubits):\n",
    "        self.n_qubits = n_qubits\n",
    "\n",
    "    def num_qubits(self):\n",
    "        return self.n_qubits\n",
    "\n",
    "    def _decompose_(self, qubits):\n",
    "        \"\"\"Implements the QFT on an arbitrary number of qubits. The circuit\n",
    "        for num_qubits = 4 is given by\n",
    "        ---H--@-------@--------@---------------------------------------------\n",
    "              |       |        |\n",
    "        ------@^0.5---+--------+---------H--@-------@------------------------\n",
    "                      |        |            |       |\n",
    "        --------------@^0.25---+------------@^0.5---+---------H--@-----------\n",
    "                               |                    |            |\n",
    "        -----------------------@^0.125--------------@^0.25-------@^0.5---H---\n",
    "        \"\"\"\n",
    "        qubits = list(qubits)\n",
    "\n",
    "        while len(qubits) > 0:\n",
    "            q_head = qubits.pop(0)\n",
    "            yield cirq.H(q_head)\n",
    "\n",
    "            for i, qubit in enumerate(qubits):\n",
    "                yield (cirq.CZ**(1/2**(i+1)))(qubit, q_head)\n",
    "\n",
    "    def _circuit_diagram_info_(self, args):\n",
    "        return tuple('QFT{}'.format(i) for i in range(self.n_qubits))\n",
    "    \n",
    "# Test the Circuit\n",
    "num_qubits = 4\n",
    "\n",
    "qubits = cirq.LineQubit.range(num_qubits)\n",
    "circuit = cirq.Circuit(QFT(num_qubits).on(*qubits))\n",
    "print(circuit)\n",
    "\n",
    "qft_test = cirq.Circuit(*make_qft(qubits))\n",
    "print(qft_test)\n",
    "np.testing.assert_allclose(cirq.unitary(qft_test), cirq.unitary(circuit))"
   ]
  },
  {
   "cell_type": "markdown",
   "id": "8894910c",
   "metadata": {},
   "source": [
    "#### Inverse QFT"
   ]
  },
  {
   "cell_type": "code",
   "execution_count": 6,
   "id": "7a6e3701",
   "metadata": {},
   "outputs": [
    {
     "name": "stdout",
     "output_type": "stream",
     "text": [
      "0: ───QFT0───QFT0^-1───\n",
      "      │      │\n",
      "1: ───QFT1───QFT1^-1───\n"
     ]
    },
    {
     "data": {
      "text/plain": [
       "array([[ 1. +0.j ,  0. +0.j ,  0. +0.j ,  0. +0.j ],\n",
       "       [-0. +0.j ,  0.5+0.5j, -0. +0.j ,  0.5-0.5j],\n",
       "       [ 0. +0.j ,  0.5+0.j ,  0.5-0.5j,  0. +0.5j],\n",
       "       [-0. +0.j ,  0. -0.5j,  0.5+0.5j,  0.5+0.j ]])"
      ]
     },
     "execution_count": 6,
     "metadata": {},
     "output_type": "execute_result"
    }
   ],
   "source": [
    "class QFT_inv(cirq.Gate):\n",
    "    def __init__(self, n_qubits):\n",
    "        self.n_qubits = n_qubits\n",
    "\n",
    "    def num_qubits(self):\n",
    "        return self.n_qubits\n",
    "\n",
    "    def _decompose_(self, qubits):\n",
    "        \"\"\"Implements the inverse QFT on an arbitrary number of qubits. The circuit\n",
    "        for num_qubits = 4 is given by\n",
    "        ---H--@-------@--------@---------------------------------------------\n",
    "              |       |        |\n",
    "        ------@^-0.5--+--------+---------H--@-------@------------------------\n",
    "                      |        |            |       |\n",
    "        --------------@^-0.25--+------------@^-0.5--+---------H--@-----------\n",
    "                               |                    |            |\n",
    "        -----------------------@^-0.125-------------@^-0.25------@^-0.5--H---\n",
    "        \"\"\"\n",
    "        qubits = list(qubits)\n",
    "        while len(qubits) > 0:\n",
    "            q_head = qubits.pop(0)\n",
    "            yield cirq.H(q_head)\n",
    "            for i, qubit in enumerate(qubits):\n",
    "                yield (cirq.CZ**(-1/2**(i+1)))(qubit, q_head)\n",
    "\n",
    "    def _circuit_diagram_info_(self, args):\n",
    "        return tuple('QFT{}^-1'.format(i) for i in range(self.n_qubits))\n",
    "    \n",
    "num_qubits = 2\n",
    "\n",
    "qubits = cirq.LineQubit.range(num_qubits)\n",
    "circuit = cirq.Circuit(QFT(num_qubits).on(*qubits),\n",
    "                                QFT_inv(num_qubits).on(*qubits))\n",
    "print(circuit)\n",
    "cirq.unitary(circuit).round(2)"
   ]
  },
  {
   "cell_type": "markdown",
   "id": "a865a8df",
   "metadata": {},
   "source": [
    "If `QFT` and `QFT_inv` were really inverses then we would have gotten the identity matrix here. There are a couple of ways to fix this. One is to change the implementations of these two gates in such a way that the outputs are \"rightside-up.\" A different solution is to turn the qubits around in between acting with `QFT` and `QFT_inv`. In other words, we can insert the `QFT_inv` gate \"upside-down\" as follows:"
   ]
  },
  {
   "cell_type": "code",
   "execution_count": 7,
   "id": "0ae78714",
   "metadata": {},
   "outputs": [
    {
     "name": "stdout",
     "output_type": "stream",
     "text": [
      "0: ───QFT0───QFT1^-1───\n",
      "      │      │\n",
      "1: ───QFT1───QFT0^-1───\n"
     ]
    },
    {
     "data": {
      "text/plain": [
       "array([[ 1.+0.j,  0.+0.j,  0.+0.j,  0.+0.j],\n",
       "       [ 0.+0.j,  1.+0.j,  0.+0.j,  0.+0.j],\n",
       "       [-0.+0.j, -0.+0.j,  1.+0.j, -0.+0.j],\n",
       "       [-0.+0.j, -0.+0.j, -0.+0.j,  1.+0.j]])"
      ]
     },
     "execution_count": 7,
     "metadata": {},
     "output_type": "execute_result"
    }
   ],
   "source": [
    "num_qubits = 2\n",
    "\n",
    "qubits = cirq.LineQubit.range(num_qubits)\n",
    "circuit = cirq.Circuit(QFT(num_qubits).on(*qubits),\n",
    "                                QFT_inv(num_qubits).on(*qubits[::-1])) # qubit order reversed\n",
    "print(circuit)\n",
    "cirq.unitary(circuit)"
   ]
  },
  {
   "cell_type": "markdown",
   "id": "661aba90",
   "metadata": {},
   "source": [
    "We find the identity matrix, as desired (up to finite-precision numerical errors). Notice that the `QFT_inv` gate is upside-down relative to the `QFT` gate in the diagram. This is why we included the extra digits in the `wire_symobls`!"
   ]
  },
  {
   "cell_type": "markdown",
   "id": "4863805c",
   "metadata": {},
   "source": [
    "### 2. Phase Estimation\n",
    "As an application of our quantum Fourier transform circuit, we'll implement the [phase estimation](https://en.wikipedia.org/wiki/Quantum_phase_estimation_algorithm) algorithm. The phase estimation algorithm uses the inverse QFT to give an estimate of the eigenvalue of a unitary operator.\n",
    "\n",
    "Suppose we have a unitary operator $U$ with eigenvactor $|\\psi\\rangle$ and eigenvalue $\\exp(2\\pi i \\theta)$. Our objective is to get an $n$-bit approximation to $\\theta$. The first step is to construct the state\n",
    "$$\n",
    "|\\Phi\\rangle = \\frac{1}{2^{n/2}}\\sum_{y=0}^{2^{n-1}} e^{2\\pi i y \\theta}|y\\rangle.\n",
    "$$\n",
    "This looks very similar to the output of the QFT applied to the state $|2^n\\theta\\rangle$, except for the fact that $2^n\\theta$ may not be an integer. If $2^n\\theta$ *were* an integer, then we would apply the inverse QFT and measure the qubits to read off the binary representation of $2^n\\theta$. Even if $2^n\\theta$ is not an integer, we can still perform the same procedure and the result will be a sequence of bits that, with high probility, gives an $n$-bit approximation to $\\theta$. We just have to repeat the procedure a few times to be sure of the answer.\n",
    "\n",
    "Since we've already constructed the inverse QFT, all we really have to do is figure out how to construct the magic state $|\\Phi\\rangle$. This is accomplished by the first part of the circuit picutred above. We begin by applying $H^{\\otimes n}$ to the state $|0\\rangle$, creating an equal superposition over all basis states:\n",
    "$$\n",
    "H^{\\otimes n} |0\\rangle = \\frac{1}{2^{n/2}}\\sum_{y=0}^{2^n-1}|y\\rangle.\n",
    "$$\n",
    "Now we need to insert the correct phase coefficients. This is done by a sequence of Controlled-$U^k$ operations, where the qubits of $y$ are the controls and the $U^k$ operations act on $|\\psi \\rangle$.\n",
    "\n",
    "Let's try to implement this part of the procedure in Cirq, and then put it together with our `QFT_inv` from above. For the gate $U$ we'll pick the single-qubit operation\n",
    "$$\n",
    "U = Z^{2\\theta} = \\begin{bmatrix}\n",
    "1 & 0 \\\\\n",
    "0 & e^{2\\pi i \\theta }\n",
    "\\end{bmatrix}\n",
    "$$\n",
    "for $\\theta \\in [0,1)$. This is just for simplicity and ease of testing. You are invited to write an implementation that accepts an arbitrary $U$."
   ]
  },
  {
   "cell_type": "code",
   "execution_count": 8,
   "id": "0a411cf3",
   "metadata": {},
   "outputs": [
    {
     "name": "stdout",
     "output_type": "stream",
     "text": [
      "0: ───H───@────────────────────────────────────────────────────\n",
      "          │\n",
      "1: ───H───┼──────────@─────────────────────────────────────────\n",
      "          │          │\n",
      "2: ───H───┼──────────┼──────────@──────────────────────────────\n",
      "          │          │          │\n",
      "3: ───H───┼──────────┼──────────┼─────────@────────────────────\n",
      "          │          │          │         │\n",
      "4: ───H───┼──────────┼──────────┼─────────┼──────────@─────────\n",
      "          │          │          │         │          │\n",
      "u: ───────Z^-0.608───Z^-0.304───Z^0.848───Z^-0.576───Z^0.712───\n"
     ]
    }
   ],
   "source": [
    "theta = 0.356\n",
    "n_bits = 5\n",
    "\n",
    "qubits = cirq.LineQubit.range(n_bits)\n",
    "u_bit = cirq.NamedQubit('u')\n",
    "\n",
    "U = cirq.Z**(2*theta)\n",
    "\n",
    "phase_estimator = cirq.Circuit()\n",
    "\n",
    "phase_estimator.append(cirq.H.on_each(*qubits))\n",
    "\n",
    "for i, bit in enumerate(qubits):\n",
    "    phase_estimator.append(cirq.ControlledGate(U).on(bit,u_bit)**(2**(n_bits-1-i)))\n",
    "\n",
    "print(phase_estimator)"
   ]
  },
  {
   "cell_type": "markdown",
   "id": "53c79c3d",
   "metadata": {},
   "source": [
    "The next step is to perform the inverse QFT on estimation qubits:"
   ]
  },
  {
   "cell_type": "code",
   "execution_count": 9,
   "id": "8507968a",
   "metadata": {},
   "outputs": [
    {
     "name": "stdout",
     "output_type": "stream",
     "text": [
      "0: ───H───@────────────────────────────────────────────────────QFT0^-1───\n",
      "          │                                                    │\n",
      "1: ───H───┼──────────@─────────────────────────────────────────QFT1^-1───\n",
      "          │          │                                         │\n",
      "2: ───H───┼──────────┼──────────@──────────────────────────────QFT2^-1───\n",
      "          │          │          │                              │\n",
      "3: ───H───┼──────────┼──────────┼─────────@────────────────────QFT3^-1───\n",
      "          │          │          │         │                    │\n",
      "4: ───H───┼──────────┼──────────┼─────────┼──────────@─────────QFT4^-1───\n",
      "          │          │          │         │          │\n",
      "u: ───────Z^-0.608───Z^-0.304───Z^0.848───Z^-0.576───Z^0.712─────────────\n"
     ]
    }
   ],
   "source": [
    "phase_estimator.append(QFT_inv(n_bits).on(*qubits))\n",
    "print(phase_estimator)"
   ]
  },
  {
   "cell_type": "markdown",
   "id": "2f3c02f5",
   "metadata": {},
   "source": [
    "At this point we are almost ready to measure the estimation qubits. But we should also specify an initial state for the `u_bit`. By default it will be the state $|0\\rangle$, but the phase for that state is trivial with the operator we chose. Inserting a Pauli $X$ operator at the begining of the circuit changes this to the $|1\\rangle$ state, which has the nontrivial $\\theta$ phase."
   ]
  },
  {
   "cell_type": "code",
   "execution_count": 10,
   "id": "bfdabf87",
   "metadata": {},
   "outputs": [
    {
     "name": "stdout",
     "output_type": "stream",
     "text": [
      "0: ───H───@────────────────────────────────────────────────────QFT0^-1───M('m')───\n",
      "          │                                                    │         │\n",
      "1: ───H───┼──────────@─────────────────────────────────────────QFT1^-1───M────────\n",
      "          │          │                                         │         │\n",
      "2: ───H───┼──────────┼──────────@──────────────────────────────QFT2^-1───M────────\n",
      "          │          │          │                              │         │\n",
      "3: ───H───┼──────────┼──────────┼─────────@────────────────────QFT3^-1───M────────\n",
      "          │          │          │         │                    │         │\n",
      "4: ───H───┼──────────┼──────────┼─────────┼──────────@─────────QFT4^-1───M────────\n",
      "          │          │          │         │          │\n",
      "u: ───X───Z^-0.608───Z^-0.304───Z^0.848───Z^-0.576───Z^0.712──────────────────────\n"
     ]
    }
   ],
   "source": [
    "# Add measurements to the end of the circuit\n",
    "phase_estimator.append(cirq.measure(*qubits, key='m'))\n",
    "\n",
    "# Add gate to change initial state to |1>\n",
    "phase_estimator.insert(0,cirq.X(u_bit))\n",
    "\n",
    "print(phase_estimator)"
   ]
  },
  {
   "cell_type": "markdown",
   "id": "463ede50",
   "metadata": {},
   "source": [
    "Now we can intstantiate a simulator and make measurements of the estimation qubits. Let the values of these qubits be $a_j$. Then our $n$-bit approximation for $\\theta$ is given by\n",
    "$$\n",
    "\\theta \\approx \\sum_{j=0}^n a_j2^{-j}.\n",
    "$$\n",
    "We'll perform this conversion from bit values to $\\theta$-values and then print the results:"
   ]
  },
  {
   "cell_type": "code",
   "execution_count": 11,
   "id": "9705ef61",
   "metadata": {},
   "outputs": [
    {
     "name": "stdout",
     "output_type": "stream",
     "text": [
      "[0.375   0.34375 0.875   0.375   0.34375 0.3125  0.34375 0.375   0.375\n",
      " 0.34375]\n"
     ]
    }
   ],
   "source": [
    "simulation = cirq.Simulator()\n",
    "result = simulation.run(phase_estimator, repetitions=10)\n",
    "\n",
    "theta_estimates = np.sum(2**np.arange(n_bits)*result.measurements['m'], axis=1)/2**n_bits\n",
    "print(theta_estimates)"
   ]
  },
  {
   "cell_type": "code",
   "execution_count": 12,
   "id": "cee34843",
   "metadata": {},
   "outputs": [],
   "source": [
    "def phase_estimation(theta, n_bits, n_reps=10):\n",
    "    qubits = cirq.LineQubit.range(n_bits)\n",
    "    u_bit = cirq.NamedQubit('u')\n",
    "\n",
    "    U = cirq.Z**(2*theta) # Try out a different gate if you like\n",
    "\n",
    "    phase_estimator = cirq.Circuit()\n",
    "\n",
    "    phase_estimator.append(cirq.H.on_each(*qubits))\n",
    "    \n",
    "    for i, bit in enumerate(qubits):\n",
    "        phase_estimator.append(cirq.ControlledGate(U).on(bit,u_bit)**(2**(n_bits-1-i)))\n",
    "        \n",
    "    phase_estimator.append(QFT_inv(n_bits).on(*qubits))\n",
    "\n",
    "    # Measurement gates\n",
    "    phase_estimator.append(cirq.measure(*qubits, key='m'))\n",
    "\n",
    "    # Gates to choose initial state for the u_bit. Placing X here chooses the |1> state\n",
    "    phase_estimator.insert(0,cirq.X(u_bit))\n",
    "\n",
    "    # Code to simulate measurements\n",
    "    simulation = cirq.Simulator()\n",
    "    result = simulation.run(phase_estimator, repetitions=n_reps)\n",
    "\n",
    "    # Convert measurements into estimates of theta\n",
    "    theta_estimates = np.sum(2**np.arange(n_bits)*result.measurements['m'], axis=1)/2**n_bits\n",
    "\n",
    "    return theta_estimates"
   ]
  },
  {
   "cell_type": "code",
   "execution_count": 13,
   "id": "87ee4bd8",
   "metadata": {},
   "outputs": [
    {
     "data": {
      "text/plain": [
       "array([0.35644531, 0.35546875, 0.35644531, 0.35546875, 0.35644531,\n",
       "       0.35644531, 0.35644531, 0.35644531, 0.35546875, 0.35644531])"
      ]
     },
     "execution_count": 13,
     "metadata": {},
     "output_type": "execute_result"
    }
   ],
   "source": [
    "phase_estimation(0.356, 10)"
   ]
  },
  {
   "cell_type": "markdown",
   "id": "d69b3390",
   "metadata": {},
   "source": [
    "#### Phase Estimation Without an Eigenstate\n",
    "\n",
    "We can modify our `phase_estimation` method to explore other interesting aspects of the algorithm. Suppose the input to the circuit was not an eigenstate of $U$ at all? You could modify the case we analyzed above by putting an arbitrary single-qubit state on the `u_bit`, or you could replace $Z^{2\\theta}$ with something like $X^{2\\theta}$ while still passing in a computational basis state.\n",
    "\n",
    "Suppose the operator $U$ has eigenstate $|u_j\\rangle$ with eigenvalues $e^{2\\pi i \\theta_j}$. Then in general if we pass in a state of the form\n",
    "$$\n",
    "\\sum_j \\alpha_j|u_j\\rangle\n",
    "$$\n",
    "then each time we run the circuit we will get an $n$-bit estimate of one of the $\\theta_j$ chosen at random, and the probability of choosing a particular $\\theta_j$ is given by $|\\alpha_j|^2$. One simple test of this is to modify our above code to pass the state\n",
    "$$\n",
    "\\frac{|0\\rangle + |1\\rangle}{\\sqrt{2}}\n",
    "$$\n",
    "into the phase estimator for $Z^{2\\theta}$. The state $|1\\rangle$ has eigenvalue $e^{2\\pi i \\theta_j}$ while the state $|0\\rangle$ has eigenvalue $1$."
   ]
  },
  {
   "cell_type": "code",
   "execution_count": 14,
   "id": "fc90c46f",
   "metadata": {},
   "outputs": [],
   "source": [
    "def phase_estimation(theta, n_bits, n_reps=10):\n",
    "    qubits = cirq.LineQubit.range(n_bits)\n",
    "    u_bit = cirq.NamedQubit('u')\n",
    "\n",
    "    U = cirq.Z**(2*theta)\n",
    "\n",
    "    phase_estimator = cirq.Circuit()\n",
    "\n",
    "    phase_estimator.append(cirq.H.on_each(*qubits))\n",
    "    \n",
    "    for i, bit in enumerate(qubits):\n",
    "        phase_estimator.append(cirq.ControlledGate(U).on(bit,u_bit)**(2**(n_bits-1-i)))\n",
    "        \n",
    "    phase_estimator.append(QFT_inv(n_bits).on(*qubits))\n",
    "\n",
    "    phase_estimator.append(cirq.measure(*qubits, key='m'))\n",
    "\n",
    "    # Changed the X gate here to an H\n",
    "    phase_estimator.insert(0,cirq.H(u_bit))\n",
    "\n",
    "    simulation = cirq.Simulator()\n",
    "    result = simulation.run(phase_estimator, repetitions=n_reps)\n",
    "\n",
    "    theta_estimates = np.sum(2**np.arange(n_bits)*result.measurements['m'], axis=1)/2**n_bits\n",
    "\n",
    "    return theta_estimates"
   ]
  },
  {
   "cell_type": "code",
   "execution_count": 15,
   "id": "f19d6522",
   "metadata": {},
   "outputs": [
    {
     "data": {
      "text/plain": [
       "array([0.35546875, 0.        , 0.        , 0.        , 0.35644531,\n",
       "       0.35644531, 0.        , 0.        , 0.35449219, 0.35644531])"
      ]
     },
     "execution_count": 15,
     "metadata": {},
     "output_type": "execute_result"
    }
   ],
   "source": [
    "phase_estimation(0.356,10)"
   ]
  },
  {
   "cell_type": "markdown",
   "id": "6cd89a1c",
   "metadata": {},
   "source": [
    "### 3. Grover's Search Algorithm\n",
    "\n",
    "The Grover algorithm takes a black-box oracle implementing a function\n",
    "$f(x) = 1\\text{ if }x=x',~ f(x) = 0 \\text{ if } x\\neq x'$ and finds $x'$ within a randomly ordered sequence of $N$ items using $O(\\sqrt{N}$) operations and $O(N\\,  \\text{log}N$) gates,\n",
    "with the probability $p \\geq 2/3$.\n",
    "At the moment, only 2-bit sequences (for which one pass through Grover operator\n",
    "is enough) are considered.\n",
    "\n",
    "=== REFERENCE ===\n",
    "\n",
    "Coles, Eidenbenz et al. Quantum Algorithm Implementations for Beginners\n",
    "https://arxiv.org/abs/1804.03719"
   ]
  },
  {
   "cell_type": "code",
   "execution_count": 16,
   "id": "78ad99d4",
   "metadata": {},
   "outputs": [
    {
     "name": "stdout",
     "output_type": "stream",
     "text": [
      "Secret bit sequence: [0, 0]\n",
      "Circuit:\n",
      "(0, 0): ───H───X───@───X───H───X───────@───X───H───────M('result')───\n",
      "                   │                   │               │\n",
      "(1, 0): ───H───X───@───X───H───X───H───X───H───X───H───M─────────────\n",
      "                   │\n",
      "(2, 0): ───X───H───X─────────────────────────────────────────────────\n",
      "Sampled results:\n",
      "Counter({'00': 10})\n",
      "Most common bitstring: 00\n",
      "Found a match: True\n"
     ]
    }
   ],
   "source": [
    "def set_io_qubits(qubit_count):\n",
    "    input_qubits = [cirq.GridQubit(i, 0) for i in range(qubit_count)]\n",
    "    output_qubit = cirq.GridQubit(qubit_count, 0)\n",
    "    return (input_qubits, output_qubit)\n",
    "\n",
    "\n",
    "def oracle(input_qubits, output_qubit, x_bits):\n",
    "    # Make oracle.\n",
    "    # for (1, 1) it's just a Toffoli gate\n",
    "    # otherwise negate the zero-bits.\n",
    "    yield(cirq.X(q) for (q, bit) in zip(input_qubits, x_bits) if not bit)\n",
    "    yield(cirq.TOFFOLI(input_qubits[0], input_qubits[1], output_qubit))\n",
    "    yield(cirq.X(q) for (q, bit) in zip(input_qubits, x_bits) if not bit)\n",
    "\n",
    "\n",
    "def grover_circuit(input_qubits, output_qubit, oracle):\n",
    "    # For 2 input qubits, that means using Grover operator only once.\n",
    "    circuit = cirq.Circuit()\n",
    "\n",
    "    # Initialize qubits.\n",
    "    circuit.append([\n",
    "        cirq.X(output_qubit),\n",
    "        cirq.H(output_qubit),\n",
    "        cirq.H.on_each(*input_qubits),\n",
    "    ])\n",
    "\n",
    "    # Query oracle.\n",
    "    circuit.append(oracle)\n",
    "\n",
    "    # Construct Grover operator.\n",
    "    circuit.append(cirq.H.on_each(*input_qubits))\n",
    "    circuit.append(cirq.X.on_each(*input_qubits))\n",
    "    circuit.append(cirq.H.on(input_qubits[1]))\n",
    "    circuit.append(cirq.CNOT(input_qubits[0], input_qubits[1]))\n",
    "    circuit.append(cirq.H.on(input_qubits[1]))\n",
    "    circuit.append(cirq.X.on_each(*input_qubits))\n",
    "    circuit.append(cirq.H.on_each(*input_qubits))\n",
    "\n",
    "    # Measure the result.\n",
    "    circuit.append(cirq.measure(*input_qubits, key='result'))\n",
    "\n",
    "    return circuit\n",
    "\n",
    "\n",
    "def bitstring(bits):\n",
    "    return ''.join(str(int(b)) for b in bits)\n",
    "\n",
    "\n",
    "qubit_count = 2\n",
    "circuit_sample_count = 10\n",
    "\n",
    "#Set up input and output qubits.\n",
    "(input_qubits, output_qubit) = set_io_qubits(qubit_count)\n",
    "\n",
    "#Choose the x' and make an oracle which can recognize it.\n",
    "x_bits = [random.randint(0, 1) for _ in range(qubit_count)]\n",
    "print('Secret bit sequence: {}'.format(x_bits))\n",
    "\n",
    "# Make oracle (black box)\n",
    "oracle = oracle(input_qubits, output_qubit, x_bits)\n",
    "\n",
    "# Embed the oracle into a quantum circuit implementing Grover's algorithm.\n",
    "circuit = grover_circuit(input_qubits, output_qubit, oracle)\n",
    "print('Circuit:')\n",
    "print(circuit)\n",
    "\n",
    "# Sample from the circuit a couple times.\n",
    "simulation = cirq.Simulator()\n",
    "result = simulation.run(circuit, repetitions=circuit_sample_count)\n",
    "\n",
    "frequencies = result.histogram(key='result', fold_func=bitstring)\n",
    "print('Sampled results:\\n{}'.format(frequencies))\n",
    "\n",
    "# Check if we actually found the secret value.\n",
    "most_common_bitstring = frequencies.most_common(1)[0][0]\n",
    "print('Most common bitstring: {}'.format(most_common_bitstring))\n",
    "print('Found a match: {}'.format(\n",
    "    most_common_bitstring == bitstring(x_bits)))"
   ]
  },
  {
   "cell_type": "markdown",
   "id": "afef33ee",
   "metadata": {},
   "source": [
    "### 4. Brenstein-Vazirani Algorithm\n",
    "\n",
    "Bernstein and Varizani have given the first quantum algorithm to solve parity problem in which a strong violation of the classical imformation theoritic bound comes about.\n",
    "\n",
    "=== REFERENCE ===\n",
    " J Du et al. Implementation of a quantum algorithm to solve Bernstein-Vazirani's parity problem without entanglement on an ensemble quantum computer\n",
    " \n",
    "https://arxiv.org/abs/quant-ph/0012114"
   ]
  },
  {
   "cell_type": "code",
   "execution_count": 17,
   "id": "7d237e1b",
   "metadata": {},
   "outputs": [
    {
     "name": "stdout",
     "output_type": "stream",
     "text": [
      "Secret function:\n",
      "f(x) = x*<0,0,1,1,1,1,0,0> + 0 (mod 2)\n",
      "\n",
      "Circuit:\n",
      " (0, 0): ───H───H───────────────────────M('result')───\n",
      "                                       │\n",
      "(1, 0): ───H───H───────────────────────M─────────────\n",
      "                                       │\n",
      "(2, 0): ───H───────@───H───────────────M─────────────\n",
      "                   │                   │\n",
      "(3, 0): ───H───────┼───@───H───────────M─────────────\n",
      "                   │   │               │\n",
      "(4, 0): ───H───────┼───┼───@───H───────M─────────────\n",
      "                   │   │   │           │\n",
      "(5, 0): ───H───────┼───┼───┼───@───H───M─────────────\n",
      "                   │   │   │   │       │\n",
      "(6, 0): ───H───H───┼───┼───┼───┼───────M─────────────\n",
      "                   │   │   │   │       │\n",
      "(7, 0): ───H───H───┼───┼───┼───┼───────M─────────────\n",
      "                   │   │   │   │\n",
      "(8, 0): ───X───H───X───X───X───X─────────────────────\n",
      "\n",
      "Sampled results:\n",
      "Counter({'00111100': 3})\n",
      "\n",
      "Most common matches secret factors:\n",
      "True\n"
     ]
    }
   ],
   "source": [
    "def bitstring(bits):\n",
    "    return  ''.join(str(int(b)) for b in bits)\n",
    "\n",
    "def oracle(input_qubits, output_qubit, secret_factor_bits, secret_bias_bit):\n",
    "    if secret_bias_bit:\n",
    "        yield cirq.X(output_qubit)\n",
    "        \n",
    "    for qubit, bit in zip(input_qubits, secret_factor_bits):\n",
    "        if bit:\n",
    "            yield cirq.CNOT(qubit, output_qubit)\n",
    "\n",
    "def bernstein_vazirani_circuit(input_qubits, output_qubit, oracle):\n",
    "    circuit = cirq.Circuit()\n",
    "    \n",
    "    # Initialize qubits\n",
    "    circuit.append([\n",
    "        cirq.X(output_qubit),\n",
    "        cirq.H(output_qubit),\n",
    "        cirq.H.on_each(*input_qubits),\n",
    "    ])\n",
    "    \n",
    "    # Query oracle\n",
    "    circuit.append(oracle)\n",
    "    \n",
    "    # Measure in X basis\n",
    "    circuit.append([\n",
    "        cirq.H.on_each(*input_qubits),\n",
    "        cirq.measure(*input_qubits, key='result')\n",
    "    ])\n",
    "    \n",
    "    return circuit\n",
    "\n",
    "# Number of qubits\n",
    "qubit_count = 8\n",
    "\n",
    "# Number of times to sample from the circuit\n",
    "circuit_sample_count = 3\n",
    "\n",
    "# Choose qubits to use\n",
    "input_qubits = [cirq.GridQubit(i, 0) for i in range(qubit_count)]\n",
    "output_qubit = cirq.GridQubit(qubit_count, 0)\n",
    "\n",
    "# Pick coefficients for the oracle and create a circuit to query it\n",
    "secret_bias_bit = random.randint(0, 1)\n",
    "secret_factor_bits = [random.randint(0, 1) for _ in range(qubit_count)]\n",
    "\n",
    "oracle = oracle(input_qubits, output_qubit, secret_factor_bits, secret_bias_bit)\n",
    "print('Secret function:\\nf(x) = x*<{}> + {} (mod 2)'.format(','.join(str(e) for e in secret_factor_bits), secret_bias_bit))\n",
    "\n",
    "# Embed the oracle into a special quantum circuit querying it exactly once\n",
    "circuit = bernstein_vazirani_circuit(input_qubits, output_qubit, oracle)\n",
    "print('\\nCircuit:\\n', circuit)\n",
    "\n",
    "# Sample from the circuit a couple times\n",
    "simulation = cirq.Simulator()\n",
    "result = simulation.run(circuit, repetitions=circuit_sample_count)\n",
    "frequencies = result.histogram(key='result', fold_func=bitstring)\n",
    "\n",
    "print('\\nSampled results:\\n{}'.format(frequencies))\n",
    "\n",
    "# Check if we actually found the secret value:\n",
    "most_common_bitstring = frequencies.most_common(1)[0][0]\n",
    "print('\\nMost common matches secret factors:\\n{}'.format(most_common_bitstring == bitstring(secret_factor_bits)))"
   ]
  }
 ],
 "metadata": {
  "kernelspec": {
   "display_name": "Python 3 (ipykernel)",
   "language": "python",
   "name": "python3"
  },
  "language_info": {
   "codemirror_mode": {
    "name": "ipython",
    "version": 3
   },
   "file_extension": ".py",
   "mimetype": "text/x-python",
   "name": "python",
   "nbconvert_exporter": "python",
   "pygments_lexer": "ipython3",
   "version": "3.10.9"
  }
 },
 "nbformat": 4,
 "nbformat_minor": 5
}
